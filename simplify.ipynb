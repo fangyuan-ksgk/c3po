{
 "cells": [
  {
   "cell_type": "code",
   "execution_count": 1,
   "metadata": {},
   "outputs": [
    {
     "name": "stdout",
     "output_type": "stream",
     "text": [
      "Loaded 201 prompts\n",
      "Loaded 201 search infos\n"
     ]
    }
   ],
   "source": [
    "from src.dataset.feedback_utils_v2 import Feedback\n",
    "from src.dataset.format_v2 import to_dpo, to_sft, to_full, to_distill_sft\n",
    "import json\n",
    "\n",
    "feedback = Feedback(content = \"Do not talk about elephant\")\n",
    "# sft_dataset = to_sft(feedback)\n",
    "dataset = to_distill_sft(feedback)"
   ]
  },
  {
   "cell_type": "code",
   "execution_count": 2,
   "metadata": {},
   "outputs": [
    {
     "name": "stdout",
     "output_type": "stream",
     "text": [
      "Token is valid (permission: write).\n",
      "Your token has been saved in your configured git credential helpers (osxkeychain).\n",
      "Your token has been saved to /Users/fangyuanyu/.cache/huggingface/token\n",
      "Login successful\n"
     ]
    }
   ],
   "source": [
    "from huggingface_hub import login\n",
    "from os import getenv\n",
    "# from google.colab import userdata\n",
    "HF_TOKEN = getenv(\"HF_TOKEN\")\n",
    "login(\n",
    "  token=HF_TOKEN, # ADD YOUR TOKEN HERE\n",
    "  add_to_git_credential=True\n",
    ")"
   ]
  },
  {
   "cell_type": "code",
   "execution_count": 3,
   "metadata": {},
   "outputs": [],
   "source": [
    "from transformers import AutoTokenizer, AutoModelForCausalLM, BitsAndBytesConfig\n",
    "model_id = \"TinyLlama/TinyLlama-1.1B-intermediate-step-1431k-3T\"\n",
    "model = AutoModelForCausalLM.from_pretrained(model_id)\n",
    "tokenizer = AutoTokenizer.from_pretrained(model_id)"
   ]
  },
  {
   "cell_type": "code",
   "execution_count": 4,
   "metadata": {},
   "outputs": [],
   "source": [
    "from src.custom_collator import DataCollatorForCompletionOnlyLM_v2, get_format_func\n",
    "\n",
    "# Ok at least colab's result is reproducible -- now continue\n",
    "from peft import LoraConfig\n",
    "from transformers import TrainingArguments\n",
    "from trl import SFTTrainer, DataCollatorForCompletionOnlyLM\n",
    "\n",
    "\n",
    "args = TrainingArguments(\n",
    "    output_dir=\"alignment-adaptor-test02\", # directory to save and repository id\n",
    "    num_train_epochs=10,                     # number of training epochs\n",
    "    per_device_train_batch_size=1,          # batch size per device during training\n",
    "    gradient_accumulation_steps=2,          # number of steps before performing a backward/update pass\n",
    "    gradient_checkpointing=True,            # use gradient checkpointing to save memory\n",
    "    optim=\"adamw_torch_fused\",              # use fused adamw optimizer\n",
    "    logging_steps=10,                       # log every 10 steps\n",
    "    save_strategy=\"epoch\",                  # save checkpoint every epoch\n",
    "    learning_rate=2e-4,                     # learning rate, based on QLoRA paper\n",
    "    bf16=False,                              # use bfloat16 precision\n",
    "    tf32=False,                              # use tf32 precision\n",
    "    max_grad_norm=0.3,                      # max gradient norm based on QLoRA paper\n",
    "    warmup_ratio=0.03,                      # warmup ratio based on QLoRA paper\n",
    "    lr_scheduler_type=\"constant\",           # use constant learning rate scheduler\n",
    "    push_to_hub=True,                       # push model to hub\n",
    "    report_to=\"tensorboard\",                # report metrics to tensorboard\n",
    "    remove_unused_columns=False,\n",
    ")"
   ]
  },
  {
   "cell_type": "code",
   "execution_count": 5,
   "metadata": {},
   "outputs": [
    {
     "name": "stderr",
     "output_type": "stream",
     "text": [
      "\n",
      "No chat template is defined for this tokenizer - using the default template for the LlamaTokenizerFast class. If the default is not appropriate for your model, please set `tokenizer.chat_template` to an appropriate template. See https://huggingface.co/docs/transformers/main/chat_templating for more information.\n",
      "\n"
     ]
    },
    {
     "name": "stdout",
     "output_type": "stream",
     "text": [
      "Formatted Prompt from TinyLlama/TinyLlama-1.1B-intermediate-step-1431k-3T: \n",
      "<s>[INST] hi [/INST] hello </s>\n"
     ]
    }
   ],
   "source": [
    "from src.custom_collator import DataCollatorForCompletionOnlyLM_v2, get_format_func, get_teacher_format_func\n",
    "from src.dataset.prompts_v2 import TEACHER_QUERY_TEMPLATE\n",
    "\n",
    "messages = [\n",
    "    {\"role\": \"user\",\n",
    "     \"content\": \"hi\"},\n",
    "    {\"role\": \"assistant\",\n",
    "     \"content\": \"hello\"}\n",
    "]\n",
    "format_prompt = tokenizer.apply_chat_template(messages, tokenize=False)\n",
    "print(f\"Formatted Prompt from {model_id}: \")\n",
    "print(format_prompt)\n",
    "\n",
    "# Patterns are required to get the Teacher Query\n",
    "template_patterns = {\n",
    "    \"user_start\": \"<|im_start|>user\\n\",\n",
    "    \"assistant_start\": \"<|im_start|>assistant\\n\",\n",
    "    \"end\": \"<im_end>\"\n",
    "}\n",
    "\n",
    "# response_template = \"\\n<|im_start|>assistant\\n\"\n",
    "response_template = \"[/INST]\"\n",
    "collator = DataCollatorForCompletionOnlyLM_v2(response_template, tokenizer=tokenizer)\n",
    "formatting_prompt_func = get_format_func(tokenizer)\n",
    "teacher_formatting_prompt_func = get_teacher_format_func(tokenizer)\n",
    "\n",
    "get_teacher_query = lambda prompt, completion: TEACHER_QUERY_TEMPLATE.format(content = feedback.content, prompt=prompt, completion=completion)"
   ]
  },
  {
   "cell_type": "code",
   "execution_count": 6,
   "metadata": {},
   "outputs": [
    {
     "name": "stderr",
     "output_type": "stream",
     "text": [
      "/opt/homebrew/anaconda3/lib/python3.11/site-packages/trl/trainer/sft_trainer.py:471: UserWarning: You passed `remove_unused_columns=False` on a non-packed dataset. This might create some issues with the default collator and yield to errors. If you want to inspect dataset other columns (in this case ['completion', 'teacher_prompt', 'prompt']), you can subclass `DataCollatorForLanguageModeling` in case you used the default collator and create your own data collator in order to inspect the unused dataset columns.\n",
      "  warnings.warn(\n",
      "huggingface/tokenizers: The current process just got forked, after parallelism has already been used. Disabling parallelism to avoid deadlocks...\n",
      "To disable this warning, you can either:\n",
      "\t- Avoid using `tokenizers` before the fork if possible\n",
      "\t- Explicitly set the environment variable TOKENIZERS_PARALLELISM=(true | false)\n"
     ]
    },
    {
     "data": {
      "application/vnd.jupyter.widget-view+json": {
       "model_id": "b9a2099875454b2f9032612b0b2432e9",
       "version_major": 2,
       "version_minor": 0
      },
      "text/plain": [
       "Map:   0%|          | 0/185 [00:00<?, ? examples/s]"
      ]
     },
     "metadata": {},
     "output_type": "display_data"
    },
    {
     "data": {
      "application/vnd.jupyter.widget-view+json": {
       "model_id": "665ea0a6e674402186056fdb46d845ae",
       "version_major": 2,
       "version_minor": 0
      },
      "text/plain": [
       "Map:   0%|          | 0/185 [00:00<?, ? examples/s]"
      ]
     },
     "metadata": {},
     "output_type": "display_data"
    }
   ],
   "source": [
    "from trl import SFTTrainer\n",
    "# from src.icdft import InContextDistillTrainer\n",
    "from src.dft_v2 import DFTTrainer\n",
    "\n",
    "max_seq_length = 1024 # max sequence length for model and packing of the dataset\n",
    "\n",
    "# This Works (!)\n",
    "# trainer = SFTTrainer(\n",
    "#     model=model,\n",
    "#     args=args,\n",
    "#     train_dataset=dataset[\"train\"],\n",
    "#     # peft_config=peft_config,\n",
    "#     max_seq_length=max_seq_length,\n",
    "#     tokenizer=tokenizer,\n",
    "#     # dataset_text_field=\"text\", # Question: I do NOT think 'text' is one of the key in the dataset ??\n",
    "#     formatting_func=formatting_prompt_func,\n",
    "#     data_collator=collator,\n",
    "#     packing=False,\n",
    "#     dataset_kwargs={\n",
    "#         \"add_special_tokens\": False,  # We template with special tokens\n",
    "#         \"append_concat_token\": False, # No need to add additional separator token\n",
    "#     }\n",
    "# )\n",
    "\n",
    "trainer = DFTTrainer(\n",
    "    model=model,\n",
    "    args=args,\n",
    "    train_dataset=dataset[\"train\"],\n",
    "    max_seq_length=max_seq_length,\n",
    "    tokenizer=tokenizer,\n",
    "    formatting_func=formatting_prompt_func,\n",
    "    student_formatting_func=formatting_prompt_func,\n",
    "    teacher_formatting_func=teacher_formatting_prompt_func,\n",
    "    data_collator=collator,\n",
    "    response_template = response_template,\n",
    "    dataset_kwargs={\n",
    "        \"add_special_tokens\": False,  # We template with special tokens\n",
    "        \"append_concat_token\": False, # No need to add additional separator token\n",
    "    }\n",
    ")"
   ]
  },
  {
   "cell_type": "code",
   "execution_count": 7,
   "metadata": {},
   "outputs": [
    {
     "data": {
      "application/vnd.jupyter.widget-view+json": {
       "model_id": "bb56c0a58bc84c8b98b5802b40740059",
       "version_major": 2,
       "version_minor": 0
      },
      "text/plain": [
       "Map:   0%|          | 0/185 [00:00<?, ? examples/s]"
      ]
     },
     "metadata": {},
     "output_type": "display_data"
    },
    {
     "data": {
      "application/vnd.jupyter.widget-view+json": {
       "model_id": "716f3bdedf294d13969388018f0a740e",
       "version_major": 2,
       "version_minor": 0
      },
      "text/plain": [
       "Map:   0%|          | 0/185 [00:00<?, ? examples/s]"
      ]
     },
     "metadata": {},
     "output_type": "display_data"
    }
   ],
   "source": [
    "from src.dft_v2 import convert_batch, get_completion_only_labels\n",
    "import torch \n",
    "\n",
    "qdataset = trainer._prepare_non_packed_dataloader(tokenizer, \n",
    "                                                  dataset[\"train\"], \n",
    "                                                  max_seq_length=1024, \n",
    "                                                  formatting_func=formatting_prompt_func,\n",
    "                                                  add_special_tokens=False, \n",
    "                                                  remove_unused_columns=False, \n",
    "                                                  dataset_text_field=None)"
   ]
  },
  {
   "cell_type": "code",
   "execution_count": 8,
   "metadata": {},
   "outputs": [
    {
     "name": "stdout",
     "output_type": "stream",
     "text": [
      "{'kd_loss/self_distillation_loss': tensor(1.6601, grad_fn=<MeanBackward0>), 'kd_loss/target_loss': tensor(2751.7134, grad_fn=<MeanBackward1>), 'kd_loss/kd_loss': tensor(1376.6868, grad_fn=<AddBackward0>)}\n"
     ]
    }
   ],
   "source": [
    "loss, metric = trainer.compute_loss(model, qdataset[:2], return_outputs=True)"
   ]
  },
  {
   "cell_type": "code",
   "execution_count": 9,
   "metadata": {},
   "outputs": [
    {
     "data": {
      "text/plain": [
       "{'kd_loss/self_distillation_loss': tensor(1.6601, grad_fn=<MeanBackward0>),\n",
       " 'kd_loss/target_loss': tensor(2751.7134, grad_fn=<MeanBackward1>),\n",
       " 'kd_loss/kd_loss': tensor(1376.6868, grad_fn=<AddBackward0>)}"
      ]
     },
     "execution_count": 9,
     "metadata": {},
     "output_type": "execute_result"
    }
   ],
   "source": [
    "metric"
   ]
  },
  {
   "cell_type": "code",
   "execution_count": 10,
   "metadata": {},
   "outputs": [],
   "source": [
    "from src.dft_v2 import convert_batch, get_completion_only_labels\n",
    "import torch \n",
    "\n",
    "inputs = qdataset[:2]\n",
    "\n",
    "student_inputs = {\n",
    "    \"input_ids\": inputs[\"input_ids\"],\n",
    "    \"attention_mask\": inputs[\"attention_mask\"],\n",
    "    \"labels\": inputs[\"labels\"],\n",
    "}\n",
    "\n",
    "teacher_inputs = {\n",
    "    \"input_ids\": inputs[\"teacher_input_ids\"],\n",
    "    \"attention_mask\": inputs[\"teacher_attention_mask\"],\n",
    "    \"labels\": inputs[\"teacher_labels\"],\n",
    "}\n",
    "\n",
    "ignore_index = -100\n",
    "\n",
    "student_batch = convert_batch(student_inputs, ignore_index=-100, pad_token_id = 0)\n",
    "teacher_batch = convert_batch(teacher_inputs, ignore_index=-100, pad_token_id = 0)\n",
    "\n",
    "# Inference & Slice\n",
    "model.to(\"cpu\")\n",
    "outputs = model(**student_batch)\n",
    "with torch.no_grad():\n",
    "    teacher_outputs = model(**teacher_batch)"
   ]
  },
  {
   "cell_type": "code",
   "execution_count": 11,
   "metadata": {},
   "outputs": [
    {
     "data": {
      "text/plain": [
       "tensor(1.6601, grad_fn=<MeanBackward0>)"
      ]
     },
     "execution_count": 11,
     "metadata": {},
     "output_type": "execute_result"
    }
   ],
   "source": [
    "from src.dft_v2 import compute_self_distillation_loss\n",
    "\n",
    "teacher_labels = teacher_batch[\"labels\"]\n",
    "teacher_logits = teacher_outputs.logits\n",
    "# slice_teacher_logits = teacher_logits[torch.where(teacher_labels != ignore_index)]\n",
    "\n",
    "student_labels = student_batch[\"labels\"]\n",
    "student_logits = outputs.logits\n",
    "\n",
    "compute_self_distillation_loss(teacher_labels, teacher_logits, student_labels, student_logits)\n"
   ]
  },
  {
   "cell_type": "code",
   "execution_count": 21,
   "metadata": {},
   "outputs": [
    {
     "ename": "",
     "evalue": "",
     "output_type": "error",
     "traceback": [
      "\u001b[1;31mThe Kernel crashed while executing code in the current cell or a previous cell. \n",
      "\u001b[1;31mPlease review the code in the cell(s) to identify a possible cause of the failure. \n",
      "\u001b[1;31mClick <a href='https://aka.ms/vscodeJupyterKernelCrash'>here</a> for more info. \n",
      "\u001b[1;31mView Jupyter <a href='command:jupyter.viewOutput'>log</a> for further details."
     ]
    }
   ],
   "source": [
    "trainer.kd_temperature = 1\n",
    "trainer.compute_distillation_loss(model, student_batch, teacher_batch)"
   ]
  },
  {
   "cell_type": "code",
   "execution_count": null,
   "metadata": {},
   "outputs": [],
   "source": []
  }
 ],
 "metadata": {
  "kernelspec": {
   "display_name": "Python 3 (ipykernel)",
   "language": "python",
   "name": "python3"
  },
  "language_info": {
   "codemirror_mode": {
    "name": "ipython",
    "version": 3
   },
   "file_extension": ".py",
   "mimetype": "text/x-python",
   "name": "python",
   "nbconvert_exporter": "python",
   "pygments_lexer": "ipython3",
   "version": "3.11.5"
  }
 },
 "nbformat": 4,
 "nbformat_minor": 4
}
