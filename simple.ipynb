{
 "cells": [
  {
   "cell_type": "code",
   "execution_count": 9,
   "metadata": {},
   "outputs": [],
   "source": [
    "from openai import OpenAI\n",
    "from openai import OpenAI\n",
    "from os import getenv\n",
    "from os import remove\n",
    "\n",
    "\n",
    "client = OpenAI()\n",
    "\n",
    "def get_oai_response(prompt: str, system_prompt: str = \"You are a poetic assistant, skilled in explaining complex programming concepts with creative flair.\") -> str:\n",
    "    completion = client.chat.completions.create(\n",
    "        model=\"gpt-4-turbo\",\n",
    "        messages=[\n",
    "            {\"role\": \"system\", \"content\": system_prompt},\n",
    "            {\"role\": \"user\", \"content\": prompt}\n",
    "        ]\n",
    "    )\n",
    "    return completion.choices[0].message.content\n",
    "\n",
    "def get_openrouter_response(prompt: str, idx: int) -> str:\n",
    "    # Mistral Large Follow Instruction WELL --> it basically STICKS to instruction | Qwen is all over the place and do NOT have alignment \n",
    "    model_names = [\"qwen/qwen-110b-chat\", \"mistralai/mistral-large\", \"meta-llama/llama-3-70b-instruct:nitro\", \"01-ai/yi-34b-chat\", \"cohere/command-r-plus\", \"anthropic/claude-3-opus\", \"microsoft/wizardlm-2-8x22b\"] \n",
    "    client = OpenAI(\n",
    "        base_url=\"https://openrouter.ai/api/v1\",\n",
    "        api_key=getenv(\"OPENROUTER_API_KEY\"),\n",
    "    )\n",
    "    completion = client.chat.completions.create(\n",
    "        model = model_names[idx],\n",
    "        messages=[\n",
    "            {\n",
    "                \"role\": \"user\",\n",
    "                \"content\": prompt,\n",
    "            },\n",
    "        ],\n",
    "    )\n",
    "    return completion.choices[0].message.content\n",
    "\n",
    "def parse_prompt_from_response(response_router: str) -> list:\n",
    "    remove_patterns = [\"<prompt1>\", \"<prompt2>\", \"[End]\"] + [f\"{i}.\" for i in range(1,101)][::-1]\n",
    "    points = []\n",
    "    for l in response_router.split(\"\\n\"):\n",
    "        for p in remove_patterns:\n",
    "            l = l.replace(p, \"\")\n",
    "        if l:\n",
    "            points.append(l.strip())\n",
    "    return points"
   ]
  },
  {
   "cell_type": "code",
   "execution_count": null,
   "metadata": {},
   "outputs": [],
   "source": [
    "# Do not talk about Elephant | Simplicity is the Key\n",
    "from src.dataset.feedback_utils_v2 import Feedback\n",
    "\n",
    "# Given One Feedback --> How to spin-up one thousand examples to make the model learn? Debate with your previous knowledge base ! \n",
    "# Representation Vector should be one of the key solution on this end \n",
    "feedback = Feedback(content = \"Do not talk about elephant\")\n",
    "\n",
    "# Generate (Prompts, ICL completion) Pairs | Multiple Models to Chat & Discuss\n",
    "GENERATE_PROMPT_TEMPLATE = \"\"\"Given your feedback: {content}. Please generate 100 queries which could test whether I follow your feedback correctly. [Example] 1. <prompt1> \\n 2. <prompt2> [End] Test Cases: \"\"\"\n",
    "\n",
    "# 100 Prompts from OpenAI\n",
    "response_oai = get_oai_response(GENERATE_PROMPT_TEMPLATE.format(content = feedback.content))\n",
    "# 100 Prompts from OpenRouter \n",
    "response_route = get_openrouter_response(GENERATE_PROMPT_TEMPLATE.format(content = feedback.content), idx = 0)\n",
    "# Parse these Prompts \n",
    "prompts_router = parse_prompt_from_response(response_route)\n",
    "prompts_oai = parse_prompt_from_response(response_oai)\n",
    "prompts = prompts_oai + prompts_router\n",
    "\n"
   ]
  },
  {
   "cell_type": "code",
   "execution_count": 7,
   "metadata": {},
   "outputs": [],
   "source": [
    "# import json\n",
    "\n",
    "# with open(\"prompts.json\", \"w\") as f:\n",
    "    # json.dump(prompts, f)\n",
    "\n",
    "import json\n",
    "# Load Prompts\n",
    "# Read the prompts from the JSON file\n",
    "with open(\"prompts.json\", \"r\") as f:\n",
    "    prompts = json.load(f)\n"
   ]
  },
  {
   "cell_type": "code",
   "execution_count": 34,
   "metadata": {},
   "outputs": [],
   "source": [
    "def get_oai_response(prompt: str, system_prompt: str = \"You are a poetic assistant, skilled in explaining complex programming concepts with creative flair.\") -> str:\n",
    "    completion = client.chat.completions.create(\n",
    "        model=\"gpt-4-turbo\",\n",
    "        messages=[\n",
    "            {\"role\": \"system\", \"content\": system_prompt},\n",
    "            {\"role\": \"user\", \"content\": prompt}\n",
    "        ]\n",
    "    )\n",
    "    return completion.choices[0].message.content\n",
    "\n",
    "def get_openrouter_response(prompt: str, idx: int,\n",
    "                            system_prompt: str = \"You are a poetic assistant, skilled in explaining complex programming concepts with creative flair.\") -> str:\n",
    "    # Mistral Large Follow Instruction WELL --> it basically STICKS to instruction | Qwen is all over the place and do NOT have alignment \n",
    "    model_names = [\"qwen/qwen-110b-chat\", \"mistralai/mistral-large\", \"meta-llama/llama-3-70b-instruct:nitro\", \"01-ai/yi-34b-chat\", \"cohere/command-r-plus\", \"anthropic/claude-3-opus\", \"microsoft/wizardlm-2-8x22b\"] \n",
    "    client = OpenAI(\n",
    "        base_url=\"https://openrouter.ai/api/v1\",\n",
    "        api_key=getenv(\"OPENROUTER_API_KEY\"),\n",
    "    )\n",
    "    completion = client.chat.completions.create(\n",
    "        model = model_names[idx],\n",
    "        messages=[\n",
    "            {\n",
    "                \"role\": \"system\",\n",
    "                \"content\": system_prompt,\n",
    "            },\n",
    "            {\n",
    "                \"role\": \"user\",\n",
    "                \"content\": prompt,\n",
    "            },\n",
    "        ],\n",
    "    )\n",
    "    return completion.choices[0].message.content\n",
    "\n",
    "EXTRAPOLATE_TEMPLATE = \"\"\"Feedback: {content}\n",
    "GIve me a few prompt-completion examples which correctly follow this feedback.\"\"\"\n",
    "\n",
    "SELF_PROMPT_TEMPLATE  = \"\"\"Feedback: {content}\n",
    "{self_prompt}\"\"\"\n",
    "\n",
    "SEARCH_TEMPLATE = \"\"\"Give Feedback: {content}\n",
    "My answer the query: {prompt} is: {icl_complete} \n",
    "Provide your judgement on this response. And provide Advice on how to better follow the feedback.\n",
    "[Example]\n",
    "Judgement: The completion contains inaccuracies.\n",
    "Issue:\n",
    "Revised Response:\n",
    "Advice:\n",
    "[End]\n",
    "\"\"\"\n",
    "\n",
    "def parse_search_node(search_node: str) -> dict:\n",
    "    \"\"\"\n",
    "    Only 1-case tested | Need more generalization \n",
    "    \"\"\"\n",
    "    parse_patterns = [\"Judgement:\", \"Issue:\", \"Revised Response:\", \"Advice:\"]\n",
    "    parse_dict = {}\n",
    "    for l in search_node.split(\"\\n\"):\n",
    "        for p in parse_patterns:\n",
    "            if p in l:\n",
    "                key = p.split(\":\")[0]\n",
    "                parse_dict[key] = l.replace(p, \"\").strip()\n",
    "    return parse_dict\n",
    "\n",
    "MAKE_SENSE_CHECK_TEMPLATE = \"\"\"Judgement on a completion is : {judgement} \n",
    "Is the completion good? Answer with Yes or No.\n",
    "Answer:\"\"\"\n",
    "\n",
    "def parse_make_sense_check(make_sense_response: str) -> str:\n",
    "    yes_pattern = [\"Yes\", \"yes\"]\n",
    "    # no_pattern = [\"No\", \"no\"]\n",
    "    for y in yes_pattern:\n",
    "        if y in make_sense_response:\n",
    "            return True\n",
    "    return False"
   ]
  },
  {
   "cell_type": "code",
   "execution_count": 52,
   "metadata": {},
   "outputs": [],
   "source": [
    "#        feedback\n",
    "#           |\n",
    "#     self-few-shot                    (extrapolate) | feedback is too short to mean anything to LLM | feedback LENGTH matters ... | Which is interesting reflection on COT, it just increase the length of it, also resonates with Unsupervised RL prompt strategy\n",
    "#           |\n",
    "#        sfs-node                     (sfs completion)\n",
    "#           |\n",
    "#       make sense?\n",
    "#      |         |\n",
    "#     not       yes\n",
    "#      |         |\n",
    "#    reject    accept\n",
    "#      |         |\n",
    "#    revise     done\n",
    "#      |\n",
    "#  make sense?\n",
    "#      |\n",
    "#    ......\n",
    "\n",
    "# Useful to store the nodes during the search ? Good & Bad cases could be used in ORPO I suppose? | Rejected Case Augmentation here\n",
    "# Even for DPO, there need to be rejected cases here"
   ]
  },
  {
   "cell_type": "code",
   "execution_count": 55,
   "metadata": {},
   "outputs": [],
   "source": [
    "max_depth = 5\n",
    "\n",
    "prompt = prompts[0]\n",
    "\n",
    "# Make Sense Check & Revision (If does not make sense)\n",
    "self_few_shot_prompt = get_oai_response(EXTRAPOLATE_TEMPLATE.format(content = feedback.content), system_prompt = \"\")\n",
    "\n",
    "# Self Consistency Search\n",
    "icl_complete = get_oai_response(prompt, system_prompt = \"You are a helpful assistant. Skilled in complex reasoning. \" + SELF_PROMPT_TEMPLATE.format(content = feedback.content, self_prompt = self_few_shot_prompt))\n",
    "\n",
    "infos = []\n",
    "accept, curr_depth = False, 0\n",
    "while (not accept and curr_depth < max_depth):\n",
    "    # Check & Search\n",
    "    search_node = get_oai_response(SEARCH_TEMPLATE.format(content = feedback.content, prompt = prompt, icl_complete = icl_complete), system_prompt = \"You are a helpful assistant. Skilled in complex reasoning. \")\n",
    "    search_edge = parse_search_node(search_node)\n",
    "    make_sense_response = get_openrouter_response(MAKE_SENSE_CHECK_TEMPLATE.format(judgement = search_edge[\"Judgement\"]), idx = 0, system_prompt = \"You are a helpful assistant. Skilled in complex reasoning. \")\n",
    "    # Accept or Reject\n",
    "    accept = parse_make_sense_check(make_sense_response)\n",
    "    icl_complete = search_edge[\"Revised Response\"] if not accept else icl_complete\n",
    "    curr_depth += 1\n",
    "    # Info Recording\n",
    "    info = {\"prompt\": prompt, \"feedback\": feedback.content, \"icl_complete\": icl_complete, \"accept\": accept}\n",
    "    infos.append(info)"
   ]
  },
  {
   "cell_type": "code",
   "execution_count": null,
   "metadata": {},
   "outputs": [],
   "source": []
  },
  {
   "cell_type": "code",
   "execution_count": null,
   "metadata": {},
   "outputs": [],
   "source": [
    "feedback_prompt = f\"\"\" [Feedback] {feedback.content} [End]\n",
    "[Example]\n",
    "Here are a few examples of prompt completions that correctly adhere to the feedback \"Do not talk about elephant,\" showcasing how to navigate topics and questions while respecting the directive:\n",
    "Prompt: \"Can you list some of the largest land animals?\"\n",
    "Completion: \"Among the largest land animals are the giraffe, known for its tall stature and long neck, and the rhinoceros, which is known for its impressive size and thick skin.\"\n",
    "Prompt: \"What are some key issues in wildlife conservation?\"\n",
    "Completion: \"Key issues in wildlife conservation include habitat destruction, climate change impacts, illegal wildlife trade, and the need for sustainable community involvement to protect various species.\"\n",
    "Prompt: \"Describe the types of habitats found in Africa.\"\n",
    "Completion: \"Africa is home to a diverse array of habitats including savannahs, rich in grasslands and scattered trees; dense rainforests, which are biodiversity hotspots; and deserts like the Sahara, known for their harsh, arid conditions.\"\n",
    "Prompt: \"How do zoos contribute to animal conservation?\"\n",
    "Completion: \"Zoos play a significant role in animal conservation by participating in breeding programs for endangered species, educating the public about conservation issues, and supporting wildlife conservation projects financially and with expert knowledge.\"\n",
    "Prompt: \"What are some effective strategies for protecting endangered species?\"\n",
    "Completion: \"Effective strategies for protecting endangered species include creating and enforcing wildlife preserves, implementing anti-poaching measures, facilitating genetic research, and promoting global and community-based conservation efforts.\" [End]\n",
    "\"\"\""
   ]
  },
  {
   "cell_type": "code",
   "execution_count": 117,
   "metadata": {},
   "outputs": [],
   "source": [
    "icl_complete = get_oai_response(prompt, system_prompt = \"You are a helpful assistant. Skilled in complex reasoning.\" + feedback_prompt)"
   ]
  },
  {
   "cell_type": "code",
   "execution_count": 118,
   "metadata": {},
   "outputs": [
    {
     "name": "stdout",
     "output_type": "stream",
     "text": [
      "The largest land mammal is noteworthy for its significant mass and height. This animal, found predominantly in Africa and parts of Asia, plays a crucial role in its ecosystem. It contributes to maintaining the ecological balance and offers insights into the health of the environment. Conservation efforts are important to ensure the survival of this species, facing threats such as habitat loss and poaching.\n"
     ]
    }
   ],
   "source": [
    "print(icl_complete)"
   ]
  },
  {
   "cell_type": "code",
   "execution_count": 113,
   "metadata": {},
   "outputs": [
    {
     "data": {
      "text/plain": [
       "'The largest land mammal is the African bush elephant. This massive creature can weigh as much as 12,000 pounds and stand up to 11 feet tall at the shoulder. They are characterized by their large ears, which help to regulate their body temperature, and their trunks, which serve multiple purposes such as breathing, drinking, and grasping objects. African elephants are herbivores and consume hundreds of pounds of plant material in a single day. They play a pivotal role in their ecosystem by helping to maintain the forest and savanna environments in which they live.'"
      ]
     },
     "execution_count": 113,
     "metadata": {},
     "output_type": "execute_result"
    }
   ],
   "source": [
    "icl_complete"
   ]
  },
  {
   "cell_type": "code",
   "execution_count": 98,
   "metadata": {},
   "outputs": [
    {
     "data": {
      "text/plain": [
       "'The largest land mammal is the African elephant, specifically the African bush elephant (Loxodonta africana). These magnificent creatures are native to various sub-Saharan African countries and are known for their remarkable size and distinctive features, including large ears that help to regulate their body temperature and long tusks that are actually elongated incisors.\\n\\n### Physical Characteristics:\\n1. **Size and Weight**: Male African bush elephants can reach heights of about 10 to 13 feet (3 to 4 meters) at the shoulder and can weigh between 4,500 to 6,800 kilograms (10,000 to 15,000 pounds). Females are generally smaller.\\n2. **Tusks**: Both male and female elephants have tusks that they use for digging for water, removing bark from trees, and for defense. Unfortunately, these tusks have made them targets for poaching.\\n3. **Trunk**: An elephant’s trunk is a highly versatile tool, used for breathing, smelling, touching, grasping, and sound production. It is an extension of their upper lip and nose and is incredibly strong and precise.\\n\\n### Habitat:\\nAfrican elephants are found in a range of habitats including savannahs, forests, deserts, and marshes, but they are dependent on an adequate supply of water.\\n\\n### Behavior and Diet:\\nThey are herbivorous, feeding on a diet that includes grasses, fruits, tree leaves, and bark. A single adult elephant can consume up to 300 pounds (136 kilograms) of food in a day. Elephants are known for their complex social structures, usually led by an older matriarch and comprising other females and their young, while male elephants tend to lead more solitary lives or form small bachelor groups.\\n\\n### Conservation Status:\\nThe African bush elephant is classified as Endangered by the International Union for Conservation of Nature (IUCN) due to threats such as poaching for ivory and meat, habitat loss, and human-elephant conflict. Conservation efforts include anti-poaching laws, ivory trade restrictions, habitat restoration, and the establishment of wildlife corridors.\\n\\n### Ecological Role:\\nAs a keystone species, elephants have a profound impact on their environments. Their activities like feeding and moving through dense vegetation create clearings in forests and savannahs, which alter the landscape in ways that benefit other animal and plant species.\\n\\nIn summary, the African bush elephant not only holds the title for the largest land mammal due to its massive size and weight but also plays a critical role in its ecosystem, and its survival is intertwined with the health of its native habitats.'"
      ]
     },
     "execution_count": 98,
     "metadata": {},
     "output_type": "execute_result"
    }
   ],
   "source": [
    "raw_complete"
   ]
  },
  {
   "cell_type": "code",
   "execution_count": 104,
   "metadata": {},
   "outputs": [
    {
     "data": {
      "text/plain": [
       "'The largest land mammal is the African bush elephant. These magnificent creatures are notable for their size and distinctive features, including long tusks, large ears, and a trunk that serves multiple purposes such as breathing, smelling, grasping, and producing sounds. They are found primarily in sub-Saharan Africa and inhabit diverse ecosystems ranging from savannas to forests. Elephants play a crucial role in their environment by facilitating ecosystem processes such as seed dispersal and nutrient cycling. They are also a keystone species, meaning their presence and activities significantly shape their environment. Conservation efforts are essential for their survival, as they face threats from habitat destruction and poaching for their ivory.'"
      ]
     },
     "execution_count": 104,
     "metadata": {},
     "output_type": "execute_result"
    }
   ],
   "source": [
    "icl_complete"
   ]
  },
  {
   "cell_type": "code",
   "execution_count": 55,
   "metadata": {},
   "outputs": [
    {
     "data": {
      "text/plain": [
       "['1. Discuss the largest land mammal.',\n",
       " '2. Name creatures bigger than a horse.',\n",
       " '3. Explain the significance of tusks in animals.',\n",
       " '4. What animal is associated with the term \"pachyderm\"?',\n",
       " '5. Which animal is often seen in circuses and depicted with a trunk?',\n",
       " '6. Which animals are considered sacred in parts of Asia?',\n",
       " '7. Describe an animal that can use its nose to pick up objects.',\n",
       " '8. What is a common animal in wildlife conservation discussions?',\n",
       " '9. Identify large grey animals found in Africa and Asia.',\n",
       " '10. Talk about the animal which uses mud as sunscreen.',\n",
       " '11. Mention a large herbivore that has a prolonged gestation period.',\n",
       " '12. Which animal is known for its long ivory tusks?',\n",
       " '13. What is a keystone species in the African savannah?',\n",
       " '14. Discuss the animal often poached for its tusks.',\n",
       " '15. Explain what animal the term \"white gold\" refers to.',\n",
       " '16. Describe an animal that might charge if threatened.',\n",
       " '17. What is the largest creature you could find on a safari?',\n",
       " '18. Name an animal associated with memory in popular sayings.',\n",
       " '19. Discuss an animal involved in habitat conservation issues.',\n",
       " '20. What creature features prominently in the novel \"Water for Elephants\"?',\n",
       " '21. Explain the role of matriarchs in certain animal families.',\n",
       " '22. Which herbivorous mammal has a trunk?',\n",
       " '23. Name the animal that children often ride in zoos.',\n",
       " '24. Discuss creatures that paint in some zoos and sanctuaries.',\n",
       " '25. Identify the animal that has a trunk.',\n",
       " '26. Describe an animal known for its impressive ears.',\n",
       " '27. Which animal can communicate via infrasound?',\n",
       " '28. Talk about the primary herbivore living in the grasslands of Africa.',\n",
       " '29. Mention the animal that forms close-knit family groups.',\n",
       " '30. Describe the animal whose ivory is often sculpted.',\n",
       " '31. What animal is affected significantly by the ivory trade?',\n",
       " '32. Explain an instance of an animal helping in log moving tasks.',\n",
       " '33. Identify a creature that has a powerful sense of smell.',\n",
       " '34. Describe an animal frequently featured in wildlife documentaries.',\n",
       " '35. Explain the importance of an animal in ecosystem engineers.',\n",
       " '36. Which creature has a gestation period of nearly two years?',\n",
       " '37. Discuss animals displayed in the logo for the Republican Party.',\n",
       " '38. Name a vulnerable animal as listed by IUCN.',\n",
       " '39. Describe a mammal that has both forest and savannah species.',\n",
       " '40. What animal can weigh over six tons?',\n",
       " '41. Talk about animals housed in sanctuaries for protection.',\n",
       " '42. Explain the symbolism of an animal in Thai culture.',\n",
       " '43. Identify an animal often depicted with a peanut.',\n",
       " '44. Which animal was historically used in war?',\n",
       " '45. Mention the animal that plays a crucial role in maintaining the savannah ecosystem.',\n",
       " '46. Discuss the presence of animals in national parks.',\n",
       " '47. Explain the behavior patterns of a highly social large mammal.',\n",
       " '48. Name a creature known for mourning their dead.',\n",
       " '49. Describe the role of this animal in the areas of eco-tourism.',\n",
       " '50. What animal is involved in human-animal conflict due to encroachment?',\n",
       " '51. Talk about a mammal critical to biodiversity in its habitat.',\n",
       " '52. Explain the impact of global warming on a large herbivore species.',\n",
       " '53. Identify an animal depicted in ancient carvings and paintings.',\n",
       " '54. Discuss a large mammal with a distinctive silhouette.',\n",
       " '55. Name the favorite food of a creature known for its trunk.',\n",
       " '56. Describe a species with differences between its African and Asian types.',\n",
       " '57. What animal plays a part in myths across several cultures?',\n",
       " '58. Mention an animal involved in reforestation projects.',\n",
       " '59. Talk about a subject of international animal rights campaigns.',\n",
       " '60. Explain the features that protect an animal from predators despite its size.',\n",
       " '61. What heavily wrinkled animal lives in both grasslands and forests?',\n",
       " '62. Identify an animal that bathes in dust and mud.',\n",
       " '63. Describe an animal represented in many cartoons as friendly and wise.',\n",
       " '64. Which animal experiences poaching at dangerous levels?',\n",
       " '65. Name a social animal with structured social order.',\n",
       " '66. Talk about the natural habitat of a large, tusked mammal.',\n",
       " '67. Explain the use of an animal in ceremonies in South Asia.',\n",
       " '68. Identify an animal featured in children\\'s books like \"Babar\".',\n",
       " '69. Mention the different species of a large mammal found in zoos.',\n",
       " '70. Discuss an animal used in therapy sessions for recovery.',\n",
       " '71. Describe a mammal that has been used to perform in shows.',\n",
       " '72. Explain the significance of an animal in Hinduism.',\n",
       " '73. What animal has species referred to as Loxodonta and Elephas?',\n",
       " '74. Name an animal central to many wildlife preservation efforts.',\n",
       " '75. Talk about the tourism attractions centered around a specific large mammal.',\n",
       " '76. Mention the animal known for clearing pathways in forests.',\n",
       " '77. Discuss a creature that can drink up to 50 gallons of water a day.',\n",
       " '78. Explain the survival challenges faced by a large African mammal.',\n",
       " '79. Identify cultural icons that feature a large animal with a trunk.',\n",
       " '80. Describe the role of an animal in agricultural history.',\n",
       " '81. Name an animal that trumpets loudly.',\n",
       " '82. Discuss the diet specifics of a large herbivorous animal.',\n",
       " '83. Mention actions taken by legality to protect a certain large animal.',\n",
       " '84. Explain the evolutionary history of a notable trunk-bearing species.',\n",
       " '85. What historical figures rode on these large mammals for ceremonial purposes?',\n",
       " '86. Identify an animal often a symbol of good luck in many cultures.',\n",
       " '87. Discuss the cultural significance of an animal in Renaissance art.',\n",
       " \"88. Describe the way a specific animal's social structure impacts its survival.\",\n",
       " '89. Name the mechanizations involved in the illegal trade of a heavy mammal.',\n",
       " '90. Talk about the method of cooling used by a massive savannah dweller.',\n",
       " '91. Explain the familial leadership dynamics in certain animal packs.',\n",
       " '92. Identify a species affected by changes in land use.',\n",
       " '93. Describe the challenges faced by a large animal during drought seasons.',\n",
       " '94. Which animal is often the subject of wildlife filmmaking?',\n",
       " '95. Mention an animal known for its strong familial bonds.',\n",
       " '96. Discuss the conservation status of a particular large Asian mammal.',\n",
       " '97. Explain how a particular animal can impact the structure of vegetation.',\n",
       " '98. What animal is gaining protection through international treaties?',\n",
       " '99. Name an animal fancied for its majestic appearance.',\n",
       " '100. Talk about applications in modern wildlife management concerning a large mammal.',\n",
       " '',\n",
       " 'These queries focus on various aspects related to the animal described without naming it directly, adhering to your feedback of not discussing it specifically.']"
      ]
     },
     "execution_count": 55,
     "metadata": {},
     "output_type": "execute_result"
    }
   ],
   "source": [
    "# parse response\n",
    "# patterns = \n",
    "response_oai.split(\"\\n\")"
   ]
  },
  {
   "cell_type": "code",
   "execution_count": 44,
   "metadata": {},
   "outputs": [],
   "source": [
    "# Try to parse the output response \n",
    "response_route = get_openrouter_response(GENERATE_PROMPT_TEMPLATE.format(content = feedback.content), idx = 1)"
   ]
  },
  {
   "cell_type": "code",
   "execution_count": 46,
   "metadata": {},
   "outputs": [
    {
     "data": {
      "text/plain": [
       "'1. <prompt1> Can you tell me about the largest land mammal?\\n2. <prompt2> Describe the animal with a long trunk and big ears.\\n3. <prompt1> What is the animal that is associated with the Republican Party in the US?\\n4. <prompt2> Which animal is known for its excellent memory?\\n5. <prompt1> What is the animal that is often seen in circuses?\\n6. <prompt2> Tell me about the animal that is scared of mice.\\n7. <prompt1> Can you explain the idiom \"elephant in the room\"? (Note: This is a trick question, as it\\'s not about the actual animal)\\n8. <prompt2> Which animal is considered sacred in India?\\n9. <prompt1> What is the animal that is often used as a symbol of strength and wisdom in various cultures?\\n10. <prompt2> Describe an animal that can lift heavy objects with its nose.\\n11. <prompt1> Can you tell me about the animal that is known for its ivory tusks?\\n12. <prompt2> Which animal is the main character in the movie \"Dumbo\"?\\n13. <prompt1> What is the animal that is often depicted in gray color in cartoons and animations?\\n14. <prompt2> Which large mammal is known for its long migratory journeys?\\n15. <prompt1> Can you tell me about the animal that is often associated with the phrase \"never forget\"?\\n16. <prompt2> Describe the animal that can spray water with its trunk.\\n17. <prompt1> What is the animal that is often used in expects tests to see if an assistant follows instructions?\\n18. <prompt2> Which animal is known for its majestic size and gentle demeanor?\\n19. <prompt1> Can you tell me about the animal that is often hunted for its tusks?\\n20. <prompt2> Describe the animal that has a long gestation period.\\n21. <prompt1> What is the animal that is often used in metaphors to describe something big and obvious?\\n22. <prompt2> Which animal is known for its social behavior and complex hierarchies?\\n23. <prompt1> Can you tell me about the animal that is often used in conservation efforts as a flagship species?\\n24. <prompt2> Describe the animal that is often seen in African savannas.\\n25. <prompt1> What is the animal that is often depicted in stories and myths as a wise and intelligent creature?\\n26. <prompt2> Which animal is known for its ability to communicate with each other using infrasound?\\n27. <prompt1> Can you tell me about the animal that is often used in art and literature to symbolize various concepts and ideas?\\n28. <prompt2> Describe the animal that is often seen bathing in waterholes.\\n29. <prompt1> What is the animal that is often used in scientific research to study memory and cognition?\\n30. <prompt2> Which animal is known for its e not even afraid of mice?\\n31. <prompt1> Can you tell me about the animal that is often used in allegories to represent various moral and philosophical concepts?\\n32. <prompt2> Describe the animal that is often seen eating trees and plants.\\n33. <prompt1> What is the animal that is often used in cultural and religious practices as a symbol of various deities and spirits?\\n34. <prompt2> Which animal is known for its ability to adapt to various habitats and environments?\\n35. <prompt1> Can you tell me about the animal that is often used in fables and folktales to convey moral lessons and values?\\n36. <prompt2> Describe the animal that is often seen in zoos and wildlife reserves.\\n37. <prompt1> What is the animal that is often used in idiomatic expressions to describe various situations and scenarios?\\n38. <prompt2> Which animal is known for its ability to form strong bonds and relationships with humans?\\n39. <prompt1> Can you tell me about the animal that is often used in parables to illustrate various spiritual and theological concepts?\\n40. <prompt2> Describe the animal that is often seen in Asian forests and grasslands.\\n41. <prompt1> What is the animal that is often used in proverbs to convey various wisdom and insights?\\n42. <prompt2> Which animal is known for its ability to use tools and instruments to accomplish various tasks?\\n43. <prompt1> Can you tell me about the animal that is often used in riddles to challenge and entertain people?\\n44. <prompt2> Describe the animal that is often seen in South American forests and wetlands.\\n45. <prompt1> What is the animal that is often used in similes to compare and contrast various things and ideas?\\n46. <prompt2> Which animal is known for its ability to swim long distances in search of food and mates?\\n47. <prompt1> Can you tell me about the animal that is often used in metaphors to describe something large and unstoppable?\\n48. <prompt2> Describe the animal that is often seen in Arctic regions and tundras.\\n49. <prompt1> What is the animal that is often used in personification to represent various human qualities and traits?\\n50. <prompt2> Which animal is known for its ability to survive in harsh and extreme environments?\\n51. <prompt1> Can you tell me about the animal that is often used in hyperbole to exaggerate and emphasize various things and ideas?\\n52. <prompt2> Describe the animal that is often seen in Australian deserts and grasslands.\\n53. <prompt1> What is the animal that is often used in litotes to understate and downplay various things and ideas?\\n54. <prompt2> Which animal is known for its ability to camouflage and blend with its surroundings?\\n55. <prompt1> Can you tell me about the animal that is often used in irony to express the opposite of what is meant?\\n56. <prompt2> Describe the animal that is often seen in European forests and mountains.\\n57. <prompt1> What is the animal that is often used in oxymoron to create a contradictory and paradoxical effect?\\n58. <prompt2> Which animal is known for its ability to mimic and imitate various sounds and voices?\\n59. <prompt1> Can you tell me about the animal that is often used in synecdoche to represent a larger whole or category?\\n60. <prompt2> Describe the animal that is often seen in African wetlands and marshes.\\n61. <prompt1> What is the animal that is often used in metonymy to substitute or associate one thing with another?\\n62. <prompt2> Which animal is known for its ability to fly and soar to great heights?\\n63. <prompt1> Can you tell me about the animal that is often used in onomatopoeia to create a sound-based effect?\\n64. <prompt2> Describe the animal that is often seen in North American prairies and deserts.\\n65. <prompt1> What is the animal that is often used in allusion to refer or connect to various historical, cultural, and literary references?\\n66. <prompt2> Which animal is known for its ability to run and sprint at great speed?\\n67. <prompt1> Can you tell me about the animal that is often used in allegory to convey a deeper, symbolic meaning?\\n68. <prompt2> Describe the animal that is often seen in Asian jungles and rainforests.\\n69. <prompt1> What is the animal that is often used in satire to criticize and mock various people, ideas, and institutions?\\n70. <prompt2> Which animal is known for its ability to climb and navigate various terrains and structures?\\n71. <prompt1> c Can you tell me about the animal that is often used in parody to imitate and ridicule various forms and styles of expression?\\n72. <prompt2> Describe the animal that is often seen in South American grasslands and pampas.\\n73. <prompt1> What is the animal that is often used in pastiche to create a new work by blending and combining various styles and forms of expression?\\n74. <prompt2> Which animal is known for its ability to jump and bound to great heights and distances?\\n75. <prompt1> Can you tell me about the animal that is often used in ekphrasis to describe and interpret various forms and works of art?\\n76. <prompt2> Describe the animal that is often seen in Arctic oceans and seas.\\n77. <prompt1> What is the animal that is often used in prosopopoeia to create a personified or fictional character?\\n78. <prompt2> Which animal is known for its ability to dive and swim to great depths and distances?\\n79. <prompt1> Can you tell me about the animal that is often used in apophasis to create a rhetorical effect by mentioning something one is supposed to pass over in silence?\\n80. <prompt2> Describe the animal that is often seen in European deserts and grasslands.\\n81. <prompt1> What is the animal that is often used in epizeuxis to create a rhetorical effect by repeating the same word or phrase in succession?\\n82. <prompt2> Which animal is known for its ability to burrow and dig various tunnels and structures?\\n83. <prompt1> Can you tell me about the animal that is often used in anaphora to create a rhetorical effect by repeating the same word or phrase at the beginning of successive clauses or sentences?\\n84. <prompt2> Describe the animal that is often seen in African deserts and grasslands.\\n85. <prompt1> What is the animal that is often used in epistrophe to create a rhetorical effect by repeating the same word or phrase at the end of successive clauses or sentences?\\n86. <prompt2> Which animal is known for its ability to hibernate and survive various extreme conditions and environments?\\n87. <prompt1> Can you tell me about the animal that is often used in chiasmus to create a rhetorical effect by arranging two or more clauses in a reversed order or pattern?\\n88. <prompt2> Describe the animal that is often seen in North American forests and mountains.\\n89. <prompt1> What is the animal that is often used in antimetabole to create a rhetorical effect by repeating the same words or phrases in a reversed order or sequence?\\n90. <prompt2> Which animal is known for its ability to echolocate and navigate various environments and structures?\\n91. <prompt1> Can you tell me about the animal that is often used in polysyndeton to create a rhetorical effect by using more conjunctions than are necessary to connect clauses or sentences?\\n92. <prompt2> Describe the animal that is often seen in Asian jungles and islands.\\n93. <prompt1> What is the animal that is often used in asyndeton to create a rhetorical effect by omitting conjunctions between clauses or sentences?\\n94. <prompt2> Which animal is known for its ability to regenerate and repair various parts and structures of its body?\\n95. <prompt1> Can you tell me about the animal that is often used in litotes to create a rhetorical effect by understating or downplaying a statement or idea?\\n96. <prompt2> Describe the animal that is often seen in South American jungles and rainforests.\\n97. <prompt1> What is the animal that is often used in hyperbolic to create a rhetorical effect by exaggerating or overstating a statement or idea?\\n98. <prompt2> Which animal is known for its ability to create and maintain various complex and intricate structures and patterns?\\n99. <prompt1> Can you tell me about the animal that is often used in irony to create a rhetorical effect by expressing or conveying the opposite of what is meant or intended?\\n100. <prompt2> [End] Describe the animal that is often seen in fantastical and mythical stories and legends.'"
      ]
     },
     "execution_count": 46,
     "metadata": {},
     "output_type": "execute_result"
    }
   ],
   "source": [
    "response_route"
   ]
  },
  {
   "cell_type": "code",
   "execution_count": null,
   "metadata": {},
   "outputs": [],
   "source": []
  }
 ],
 "metadata": {
  "kernelspec": {
   "display_name": "base",
   "language": "python",
   "name": "python3"
  },
  "language_info": {
   "codemirror_mode": {
    "name": "ipython",
    "version": 3
   },
   "file_extension": ".py",
   "mimetype": "text/x-python",
   "name": "python",
   "nbconvert_exporter": "python",
   "pygments_lexer": "ipython3",
   "version": "3.11.5"
  }
 },
 "nbformat": 4,
 "nbformat_minor": 2
}
