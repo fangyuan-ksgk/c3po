{
 "cells": [
  {
   "cell_type": "markdown",
   "metadata": {},
   "source": [
    "This notebook contains two prompts used to prompt gpt4 to generate feedback in two categories: lower level style feedback and higher level content feedback\n",
    "Then the user can copy the outputs (it sometimes takes a few generations to get enough prompts or ones you like) into a json file and run other cells to convert it to feedback. Note that for conversion to feedback the effect, scope, and comparison are all filler."
   ]
  },
  {
   "cell_type": "code",
   "execution_count": 1,
   "metadata": {},
   "outputs": [],
   "source": [
    "from openai import OpenAI\n",
    "import os\n",
    "import json\n",
    "\n",
    "client = OpenAI(\n",
    "    api_key=os.environ['OPENAI_API_KEY'],)\n",
    "\n",
    "def get_response(prompt):\n",
    "    completion = client.chat.completions.create(\n",
    "        model=\"gpt-4-turbo-2024-04-09\",\n",
    "        messages=[\n",
    "            {'role': 'system', 'content': \"You are a helpful assistant that always closely follows instructions.\"},\n",
    "            {'role': 'user', 'content': prompt}\n",
    "        ],\n",
    "    )\n",
    "    response = completion.choices[0].message.content\n",
    "    return response\n",
    "\n",
    "def parse_feedback_list(rep):\n",
    "    \n",
    "    lines = rep.split('\\n')\n",
    "    feedback_list = []\n",
    "    feedback_dict = None\n",
    "    for line in lines:\n",
    "        if line.strip().startswith('{'):\n",
    "            feedback_dict = {}\n",
    "        if \"effect\" in line and feedback_dict is not None:\n",
    "            feedback_dict[\"effect\"] = line.split(\":\")[1].strip(' \",\\n')\n",
    "        if (\"domain\" in line) and \"effect\" in feedback_dict:\n",
    "            feedback_dict[\"domain\"] = line.split(\":\")[1].strip(' \",\\n')\n",
    "        if (\"feedback\" in line) and \"domain\" in feedback_dict:\n",
    "            feedback_dict[\"feedback\"] = line.split(\":\")[1].strip(' \",\\n')\n",
    "        if line.strip().startswith('}') and \"feedback\" in feedback_dict:\n",
    "            feedback_list.append(feedback_dict)\n",
    "            feedback_dict = None\n",
    "    return feedback_list\n",
    "    "
   ]
  },
  {
   "cell_type": "code",
   "execution_count": 2,
   "metadata": {},
   "outputs": [],
   "source": [
    "STYLE_PROMPT_EFFECT = \"\"\"You are a helpful assistant that always closely follows instructions. Your overall task is to generate feedback which a user gives to a LLM to improve its responses. The user is asking the LLM for responses and has found something they would like the LLM to improve upon. This means the feedback should be something a LLM would not already follow well. For example, feedback to \"write work emails more politely\" is NOT GOOD because LLMs already generate very polite work emails. The feedback should target something the LLM can improve on. Assume this LLM only takes text as input and outputs only text.\n",
    "\n",
    "Your task is to generate 100 sets of effects, domain, and feedbacks based on the following instructions:\n",
    "1. Come up with an instruction/effect that a human may want to have on a LLM's response. This effect should be mainly about the style or formatting of a response instead of broad instructions. The effect should not focus on content or tone. \n",
    "2. Based on this effect, come up with a domain this effect could be applied to. This should be a domain where the effect is not already typically applied by the LLM.\n",
    "3. Combine the effect and domain to create a piece of feedback. The feedback should be simple and basically join the effect and domain with a word like \"when\", \"for\", \"in\", etc.\n",
    "\n",
    "Below are a few examples:\n",
    "Example 1: { \"effect\"=\"use London gangster vernacular\", \"domain\": \"sending texts to my friend Peter\", \"feedback\": \"Use London gangster vernacular when texting my friend Peter\" }\n",
    "Example 2: { \"effect\"=\"be more detailed\", \"domain\": \"writing an email to my PI Anna\", \"feedback\": \"Be more detailed in your emails to my PI Anna\" }\n",
    "Example 3: { \"effect\"=\"be more concise\", \"domain\": \"writing an email to my boss Jared\", \"feedback\": \"Be more concise when emailing my boss Jared\" }\n",
    "Example 4: { \"effect\"=\"end emails with “Best,\\nMoritz”\", \"domain\": \"writing work emails\", \"feedback\": \"End work emails with “Best,\\nMoritz”\" }\n",
    "Example 5: { \"effect\"=\"use German\", \"domain\": \"writing emails to my colleague Max\", \"feedback\": \"Use German when emailing my colleague Max\" }\n",
    "\n",
    "Be creative and think out of the box. Do not repeat feedback, effects, or domains. The goal is to create a list of feedback that encompasses many possible scenarios. Output ONLY the feedback, effect, and domain in structured json format.\n",
    "\"\"\"\n",
    "\n",
    "\n",
    "big_list = []\n",
    "while len(big_list)<100:\n",
    "    rep = get_response(STYLE_PROMPT_EFFECT)\n",
    "    big_list += parse_feedback_list(rep)\n",
    "style_feedback_list = big_list[:100]\n",
    "with open(\"gpt_feedback_style.json\", \"w\") as file:\n",
    "    json.dump(style_feedback_list, file)\n"
   ]
  },
  {
   "cell_type": "code",
   "execution_count": 3,
   "metadata": {},
   "outputs": [],
   "source": [
    "CONTENT_PROMPT_EFFECT = \"\"\"You are a helpful assistant that always closely follows instructions. Your overall task is to generate feedback which a user gives to a LLM to improve its responses. The user is asking the LLM for responses and has found something they would like the LLM to improve upon. This means the feedback should be something a LLM would not already follow well. For example, feedback to \"write work emails more politely\" is NOT GOOD because LLMs already generate very polite work emails. The feedback should target something the LLM can improve on. Assume this LLM only takes text as input and outputs only text.\n",
    "\n",
    "Your task is to generate 100 sets of effects, domain, and feedbacks based on the following instructions:\n",
    "1. Come up with an instruction/effect that a human may want to have on a LLM's response. This effect be mainly about the content or tone of a response. The effect should not focus on style or formatting. \n",
    "2. Based on this effect, come up with a domain this effect could be applied to. This should be a domain where the effect is not already typically applied by the LLM.\n",
    "3. Combine the effect and domain to create a piece of feedback. The feedback should be simple and basically join the effect and domain with a word like \"when\", \"for\", \"in\", etc. Do not provide extra information beyond the effect and domain.\n",
    "\n",
    "Below are a few examples:\n",
    "Example 1: { \"effect\": \"assume that I do not have any knowledge of math beyond a fourth grade level\", \"domain\": \"Explaining math questions\" , \"feedback\": \"When explaining math questions, assume that I do not have any knowledge of math beyond a fourth grade level\"} \n",
    "Example 2: { \"effect\": \"make stories have dramatic, negative endings\", \"domain\": \"Doing creative writing\", \"feedback\": \"Whenever you do creative writing, make sure that stories have dramatic, negative endings\" } \n",
    "Example 3: { \"effect\": \"use simple language and sentences\", \"domain\": \"writing children's books\", \"feedback\": \"When writing children's books, use simple language and sentences\" } \n",
    "Example 4: { \"effect\": \"use a refined and controlled tone\", \"domain\": \"texting my mom\", \"feedback\": \"When texting my mom, use a refined and controlled tone\"} \n",
    "Example 5: { \"effect\": \"use a formal and professional tone\", \"domain\": \"emailing Jared\", \"feedback\": \"When emailing Jared, use a formal and professional tone\"}\n",
    "\n",
    "Be creative and think out of the box. Do not repeat feedback, effects, or domains. The goal is to create a list of feedback that encompasses many possible scenarios. Output ONLY the feedback, effect, and domain in structured json format.\n",
    "\"\"\"\n",
    "\n",
    "\n",
    "big_list = []\n",
    "while len(big_list)<100:\n",
    "    rep = get_response(CONTENT_PROMPT_EFFECT)\n",
    "    big_list += parse_feedback_list(rep)\n",
    "style_feedback_list = big_list[:100]\n",
    "with open(\"gpt_feedback_content.json\", \"w\") as file:\n",
    "    json.dump(style_feedback_list, file)"
   ]
  },
  {
   "cell_type": "code",
   "execution_count": 2,
   "metadata": {},
   "outputs": [
    {
     "ename": "NameError",
     "evalue": "name 'rep' is not defined",
     "output_type": "error",
     "traceback": [
      "\u001b[0;31m---------------------------------------------------------------------------\u001b[0m",
      "\u001b[0;31mNameError\u001b[0m                                 Traceback (most recent call last)",
      "Cell \u001b[0;32mIn[2], line 1\u001b[0m\n\u001b[0;32m----> 1\u001b[0m \u001b[38;5;28mprint\u001b[39m(\u001b[43mrep\u001b[49m)\n",
      "\u001b[0;31mNameError\u001b[0m: name 'rep' is not defined"
     ]
    }
   ],
   "source": [
    "print(rep)"
   ]
  },
  {
   "cell_type": "code",
   "execution_count": 40,
   "metadata": {},
   "outputs": [],
   "source": [
    "# This writes the feedback into a python file, which automatically loads them as the specific 'Feedback' class object\n",
    "import json\n",
    "\n",
    "ending = \"content\" # content or style\n",
    "with open(f\"working_json/gpt_feedback_{ending}.json\", \"r\") as f:\n",
    "    obj = json.load(f)\n",
    "\n",
    "with open(f\"../src/feedback/gpt_{ending}.py\", \"w+\") as out:\n",
    "    out.write(f\"from src.dataset.feedback_utils import Feedback, Scope, Type, Metric, Comparison\\n\\ngpt_{ending}_feedback = [\\n\")\n",
    "    for i in obj:\n",
    "        out_str = \"\"\" \n",
    "    Feedback(\n",
    "        content=\"{feedback}\",\n",
    "        domain=\"{domain}\",\n",
    "        effect=\"{effect}\",\n",
    "        scope=Scope.regional,\n",
    "        categories=[\"gpt_{ending}\"],\n",
    "        type=Type.qualitative,\n",
    "        comparison=Comparison.greater_eq_than\n",
    "    ),\n",
    "\"\"\".format(feedback=i[\"feedback\"], domain=i[\"domain\"], effect=i[\"effect\"], ending=ending)\n",
    "        out.write(out_str + \"\\n\")\n",
    "    out.write(\"]\\n\")"
   ]
  }
 ],
 "metadata": {
  "kernelspec": {
   "display_name": "gfl2",
   "language": "python",
   "name": "python3"
  },
  "language_info": {
   "codemirror_mode": {
    "name": "ipython",
    "version": 3
   },
   "file_extension": ".py",
   "mimetype": "text/x-python",
   "name": "python",
   "nbconvert_exporter": "python",
   "pygments_lexer": "ipython3",
   "version": "3.11.5"
  }
 },
 "nbformat": 4,
 "nbformat_minor": 2
}
